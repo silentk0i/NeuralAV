{
 "cells": [
  {
   "cell_type": "code",
   "execution_count": 1,
   "metadata": {},
   "outputs": [],
   "source": [
    "import ember\n",
    "import tensorflow as tf\n",
    "from tensorflow.keras import datasets, layers, models, optimizers\n",
    "import numpy as np\n",
    "from tqdm import tqdm\n",
    "import pandas as pd\n",
    "from sklearn.preprocessing import StandardScaler\n",
    "import seaborn as sns\n",
    "import matplotlib.pyplot as plt\n",
    "import sklearn\n",
    "\n",
    "emberData = \"C:\\\\Users\\\\cosbyd\\\\OneDrive - purdue.edu\\\\Documents\\\\ember2018\""
   ]
  },
  {
   "cell_type": "code",
   "execution_count": 2,
   "metadata": {},
   "outputs": [
    {
     "name": "stdout",
     "output_type": "stream",
     "text": [
      "WARNING: EMBER feature version 2 were computed using lief version 0.9.0-\n",
      "WARNING:   lief version 0.10.1-bfe5414 found instead. There may be slight inconsistencies\n",
      "WARNING:   in the feature calculations.\n"
     ]
    }
   ],
   "source": [
    "#create the train/test split (change PATH to where teh ember2018 file is stored tho)\n",
    "#returns 4 np array (x/y  train and x/y test)\n",
    "X_train, y_train, X_test, y_test = ember.read_vectorized_features(emberData)"
   ]
  },
  {
   "cell_type": "code",
   "execution_count": 3,
   "metadata": {},
   "outputs": [],
   "source": [
    "#filter out any data that has a label of -1. These are the files that aren't classified where 0/1 is using to say if its either benign or malware\n",
    "train_rows = (y_train != -1)\n",
    "X = X_train[train_rows]\n",
    "Y = y_train[train_rows]\n",
    "\n",
    "#Normalize data between 0-1 for better output\n",
    "scaler = StandardScaler()\n",
    "X_scaled = scaler.fit_transform(X)\n",
    "X_test_scaled = scaler.fit_transform(X_test)"
   ]
  },
  {
   "cell_type": "code",
   "execution_count": 4,
   "metadata": {},
   "outputs": [
    {
     "data": {
      "image/png": "[encoded data removed]",
      "text/plain": [
       "<Figure size 1000x600 with 1 Axes>"
      ]
     },
     "metadata": {},
     "output_type": "display_data"
    }
   ],
   "source": [
    "emberdf = ember.read_metadata(emberData)\n",
    "plotdf = emberdf.copy()\n",
    "plotdf['label'] = plotdf['label'].map({-1: 'unlabeled', 0: 'benign', 1: 'malicious'})\n",
    "gbdf = plotdf.groupby([\"label\", \"subset\"]).count().reset_index()\n",
    "\n",
    "plt.figure(figsize=(10,6))\n",
    "sns.barplot(x='subset', y='sha256', hue='label', data=gbdf, palette=[\"#00b300\", \"#ff3333\", \"#808080\"])\n",
    "plt.xlabel('Subset')\n",
    "plt.ylabel('Number of samples')\n",
    "plt.show()"
   ]
  },
  {
   "cell_type": "code",
   "execution_count": 5,
   "metadata": {},
   "outputs": [
    {
     "name": "stdout",
     "output_type": "stream",
     "text": [
      "Model: \"sequential\"\n",
      "_________________________________________________________________\n",
      " Layer (type)                Output Shape              Param #   \n",
      "=================================================================\n",
      " dense (Dense)               (None, 2400)              5716800   \n",
      "                                                                 \n",
      " dropout (Dropout)           (None, 2400)              0         \n",
      "                                                                 \n",
      " dense_1 (Dense)             (None, 1200)              2881200   \n",
      "                                                                 \n",
      " dropout_1 (Dropout)         (None, 1200)              0         \n",
      "                                                                 \n",
      " dense_2 (Dense)             (None, 1200)              1441200   \n",
      "                                                                 \n",
      " dense_3 (Dense)             (None, 1)                 1201      \n",
      "                                                                 \n",
      "=================================================================\n",
      "Total params: 10,040,401\n",
      "Trainable params: 10,040,401\n",
      "Non-trainable params: 0\n",
      "_________________________________________________________________\n"
     ]
    }
   ],
   "source": [
    "#define model architecture \n",
    "model = models.Sequential()\n",
    "model.add(layers.Dense(2400, activation='relu', input_dim=2381))\n",
    "model.add(layers.Dropout(0.5))\n",
    "model.add(layers.Dense(1200, activation='relu'))\n",
    "model.add(layers.Dropout(0.5))\n",
    "model.add(layers.Dense(1200, activation='relu'))\n",
    "model.add(layers.Dense(1, activation='sigmoid'))\n",
    "model.summary()\n",
    "\n",
    "#compile model\n",
    "model.compile(loss='binary_crossentropy',\n",
    "              optimizer='adam',\n",
    "              metrics=['accuracy'])"
   ]
  },
  {
   "cell_type": "code",
   "execution_count": 6,
   "metadata": {},
   "outputs": [
    {
     "name": "stdout",
     "output_type": "stream",
     "text": [
      "Epoch 1/10\n",
      "4641/4641 [==============================] - 462s 99ms/step - loss: 0.1972 - accuracy: 0.9205 - val_loss: 0.1347 - val_accuracy: 0.9422\n",
      "Epoch 2/10\n",
      "4641/4641 [==============================] - 450s 97ms/step - loss: 0.1462 - accuracy: 0.9424 - val_loss: 0.1047 - val_accuracy: 0.9538\n",
      "Epoch 3/10\n",
      "4641/4641 [==============================] - 449s 97ms/step - loss: 0.1248 - accuracy: 0.9507 - val_loss: 0.1054 - val_accuracy: 0.9630\n",
      "Epoch 4/10\n",
      "4641/4641 [==============================] - 451s 97ms/step - loss: 0.1128 - accuracy: 0.9552 - val_loss: 0.0915 - val_accuracy: 0.9703\n",
      "Epoch 5/10\n",
      "4641/4641 [==============================] - 450s 97ms/step - loss: 0.1047 - accuracy: 0.9584 - val_loss: 0.0885 - val_accuracy: 0.9697\n",
      "Epoch 6/10\n",
      "4641/4641 [==============================] - 450s 97ms/step - loss: 0.1000 - accuracy: 0.9609 - val_loss: 0.0970 - val_accuracy: 0.9682\n",
      "Epoch 7/10\n",
      "4641/4641 [==============================] - 454s 98ms/step - loss: 0.0971 - accuracy: 0.9626 - val_loss: 0.0976 - val_accuracy: 0.9702\n",
      "Epoch 8/10\n",
      "4641/4641 [==============================] - 449s 97ms/step - loss: 0.0918 - accuracy: 0.9641 - val_loss: 0.0828 - val_accuracy: 0.9750\n",
      "Epoch 9/10\n",
      "4641/4641 [==============================] - 453s 98ms/step - loss: 0.0895 - accuracy: 0.9657 - val_loss: 0.0778 - val_accuracy: 0.9732\n",
      "Epoch 10/10\n",
      "4641/4641 [==============================] - 451s 97ms/step - loss: 0.0864 - accuracy: 0.9668 - val_loss: 0.0844 - val_accuracy: 0.9718\n"
     ]
    },
    {
     "data": {
      "text/plain": [
       "<keras.callbacks.History at 0x1f37a505788>"
      ]
     },
     "execution_count": 6,
     "metadata": {},
     "output_type": "execute_result"
    }
   ],
   "source": [
    "#train model for 20 epochs\n",
    "model.fit(x=X_scaled, y=Y, batch_size=128, epochs=10, verbose=1, shuffle=True, validation_split = 0.01) \n",
    "(print)"
   ]
  },
  {
   "cell_type": "code",
   "execution_count": 7,
   "metadata": {},
   "outputs": [
    {
     "name": "stdout",
     "output_type": "stream",
     "text": [
      "6250/6250 [==============================] - 46s 7ms/step - loss: 0.3738 - accuracy: 0.9184\n",
      "Test loss: 0.37377116084098816\n",
      "Test accuracy: 0.9183949828147888\n"
     ]
    }
   ],
   "source": [
    "#evaluation the performance\n",
    "evaluation = model.evaluate(x=X_test_scaled, y=y_test, batch_size=32, verbose=1)\n",
    "print('Test loss:', evaluation[0])\n",
    "print('Test accuracy:', evaluation[1])"
   ]
  },
  {
   "cell_type": "code",
   "execution_count": 8,
   "metadata": {},
   "outputs": [],
   "source": [
    "model.save('trainedModel.h5')"
   ]
  }
 ],
 "metadata": {
  "kernelspec": {
   "display_name": "Python 3",
   "language": "python",
   "name": "python3"
  },
  "language_info": {
   "codemirror_mode": {
    "name": "ipython",
    "version": 3
   },
   "file_extension": ".py",
   "mimetype": "text/x-python",
   "name": "python",
   "nbconvert_exporter": "python",
   "pygments_lexer": "ipython3",
   "version": "3.7.8"
  },
  "orig_nbformat": 4
 },
 "nbformat": 4,
 "nbformat_minor": 2
}
